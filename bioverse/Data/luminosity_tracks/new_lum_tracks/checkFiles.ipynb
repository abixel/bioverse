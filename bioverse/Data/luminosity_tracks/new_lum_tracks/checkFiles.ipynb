{
 "cells": [
  {
   "cell_type": "code",
   "execution_count": 6,
   "id": "2d8e1860-0881-4ac8-9481-7cd4ffa736a4",
   "metadata": {},
   "outputs": [
    {
     "name": "stdout",
     "output_type": "stream",
     "text": [
      "0.1 files are the same\n",
      "0.2 files are the same\n",
      "0.4 files are the same\n",
      "0.6 files are the same\n",
      "0.8 files are the same\n",
      "1.0 files are the same\n",
      "1.2 files are the same\n",
      "1.4 files are the same\n"
     ]
    }
   ],
   "source": [
    "def check_files(new_track, old_track, mass):\n",
    "    new_lines = new_track.readlines()\n",
    "    old_lines = old_track.readlines()\n",
    "    for i in range(len(new_lines)):\n",
    "        new_line = new_lines[i]\n",
    "        old_line = old_lines[i]\n",
    "        if new_line.strip() != old_line.strip():\n",
    "            print(str(mass) + \" Files aren't the same\\n\")\n",
    "            print(f'newline({i}): ' + new_line)\n",
    "            print(f'oldline({i}): ' + old_line)\n",
    "            print()\n",
    "            return\n",
    "    print(str(mass) + ' files are the same')\n",
    "    \n",
    "for mass in [0.1,0.2,0.4,0.6,0.8,1.0,1.2,1.4]:\n",
    "    new_track = open(f'Lum_m{mass}.txt', 'r')\n",
    "    old_track = open(f'../Lum_m{mass}.txt', 'r')\n",
    "    check_files(new_track, old_track, mass)\n",
    "\n",
    "   "
   ]
  },
  {
   "cell_type": "code",
   "execution_count": null,
   "id": "639db763-9855-446b-bcfc-42c928fca17c",
   "metadata": {},
   "outputs": [],
   "source": []
  },
  {
   "cell_type": "code",
   "execution_count": null,
   "id": "725ca2d0-8993-4f7d-a44d-91e8feacdc04",
   "metadata": {},
   "outputs": [],
   "source": []
  },
  {
   "cell_type": "code",
   "execution_count": null,
   "id": "d77cfe95-074b-43b9-8231-ebf7ecc30aa6",
   "metadata": {},
   "outputs": [],
   "source": []
  }
 ],
 "metadata": {
  "kernelspec": {
   "display_name": "Python 3 (ipykernel)",
   "language": "python",
   "name": "python3"
  },
  "language_info": {
   "codemirror_mode": {
    "name": "ipython",
    "version": 3
   },
   "file_extension": ".py",
   "mimetype": "text/x-python",
   "name": "python",
   "nbconvert_exporter": "python",
   "pygments_lexer": "ipython3",
   "version": "3.8.20"
  }
 },
 "nbformat": 4,
 "nbformat_minor": 5
}
