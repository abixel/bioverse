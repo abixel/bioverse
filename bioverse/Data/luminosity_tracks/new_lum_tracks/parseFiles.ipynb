{
 "cells": [
  {
   "cell_type": "code",
   "execution_count": 8,
   "id": "3cc65096-bd69-4274-aca2-1c7b58077a5b",
   "metadata": {},
   "outputs": [
    {
     "name": "stdout",
     "output_type": "stream",
     "text": [
      "Done\n"
     ]
    }
   ],
   "source": [
    "# clear out the files\n",
    "for num in [0.1,0.2,0.4,0.6,0.8,1.0,1.2,1.4]:\n",
    "    lum_file = open(f'Lum_m{num}.txt', 'w')\n",
    "    lum_file.write('age,lum\\n')\n",
    "\n",
    "# load new data\n",
    "file = open('BHAC15_tracks+structure.txt')\n",
    "for line in file:\n",
    "    l = line.split(' ')\n",
    "    if len(l) > 3:\n",
    "        if '!' not in l[0]:\n",
    "            mass = round(float(l[1]), 3)\n",
    "            if mass in [0.100,0.200,0.400,0.600,0.800,1.000,1.200,1.400]:\n",
    "                new_track = open(f'Lum_m{round(mass, 1)}.txt', 'a')\n",
    "                age = 10 ** float(l[6]) / 1e9 # Convert from logt(yr) to Byr\n",
    "                formatted_age = f\"{age:.6e}\" \n",
    "                new_track.write(formatted_age + ',')\n",
    "                lum = l[13]\n",
    "                i = 13\n",
    "                while lum == '':\n",
    "                    lum = l[i]\n",
    "                    i+=1\n",
    "                formatted_lum = f\"{10 ** float(lum):.6e}\"\n",
    "                new_track.write(formatted_lum + '\\n')\n",
    "\n",
    "print(\"Done\")"
   ]
  },
  {
   "cell_type": "code",
   "execution_count": null,
   "id": "f28aac70-457e-4110-a9c7-6b2be500d1f5",
   "metadata": {},
   "outputs": [],
   "source": []
  },
  {
   "cell_type": "code",
   "execution_count": null,
   "id": "c590daca-0dc0-4f53-b0d3-0e7590d095b9",
   "metadata": {},
   "outputs": [],
   "source": []
  }
 ],
 "metadata": {
  "kernelspec": {
   "display_name": "Python 3 (ipykernel)",
   "language": "python",
   "name": "python3"
  },
  "language_info": {
   "codemirror_mode": {
    "name": "ipython",
    "version": 3
   },
   "file_extension": ".py",
   "mimetype": "text/x-python",
   "name": "python",
   "nbconvert_exporter": "python",
   "pygments_lexer": "ipython3",
   "version": "3.8.20"
  }
 },
 "nbformat": 4,
 "nbformat_minor": 5
}
